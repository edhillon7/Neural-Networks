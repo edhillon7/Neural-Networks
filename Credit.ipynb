{
  "nbformat": 4,
  "nbformat_minor": 0,
  "metadata": {
    "colab": {
      "provenance": [],
      "mount_file_id": "1PpYolF2ybg1IvnUjMtxq-6dQJaoI9Fcn",
      "authorship_tag": "ABX9TyN43p/DJXXa4Mtvq6fs0HwN",
      "include_colab_link": true
    },
    "kernelspec": {
      "name": "python3",
      "display_name": "Python 3"
    },
    "language_info": {
      "name": "python"
    }
  },
  "cells": [
    {
      "cell_type": "markdown",
      "metadata": {
        "id": "view-in-github",
        "colab_type": "text"
      },
      "source": [
        "<a href=\"https://colab.research.google.com/github/edhillon7/Neural-Networks/blob/main/Credit.ipynb\" target=\"_parent\"><img src=\"https://colab.research.google.com/assets/colab-badge.svg\" alt=\"Open In Colab\"/></a>"
      ]
    },
    {
      "cell_type": "code",
      "execution_count": null,
      "metadata": {
        "id": "a4FyN_LWpogn"
      },
      "outputs": [],
      "source": [
        "import pandas as pd\n",
        "import numpy as np\n",
        "from google.colab import drive\n",
        "from sklearn.preprocessing import MinMaxScaler\n",
        "\n"
      ]
    },
    {
      "cell_type": "code",
      "source": [
        "drive.mount('/content/drive')"
      ],
      "metadata": {
        "id": "2y_up9EWc3sM",
        "colab": {
          "base_uri": "https://localhost:8080/"
        },
        "outputId": "d5643730-b82b-4ac8-9e65-22e98f764cac"
      },
      "execution_count": null,
      "outputs": [
        {
          "output_type": "stream",
          "name": "stdout",
          "text": [
            "Drive already mounted at /content/drive; to attempt to forcibly remount, call drive.mount(\"/content/drive\", force_remount=True).\n"
          ]
        }
      ]
    },
    {
      "cell_type": "code",
      "source": [
        "!ls \"/content/drive/My Drive/Colab Notebooks\"\n"
      ],
      "metadata": {
        "colab": {
          "base_uri": "https://localhost:8080/"
        },
        "id": "7gsItN37hvYZ",
        "outputId": "7c53a4f8-ff76-4a70-b9af-1505bb60102c"
      },
      "execution_count": null,
      "outputs": [
        {
          "output_type": "stream",
          "name": "stdout",
          "text": [
            " credit_data.csv  'excel mgmt.py'   MLP1.ipynb\t SLP1.ipynb   Untitled0.ipynb   Untitled1.ipynb\n"
          ]
        }
      ]
    },
    {
      "cell_type": "code",
      "source": [
        "file_path = \"/content/drive/My Drive/Colab Notebooks/credit_data.csv\""
      ],
      "metadata": {
        "id": "Z5MlnF3xhWMh"
      },
      "execution_count": null,
      "outputs": []
    },
    {
      "cell_type": "code",
      "source": [
        "df = pd.read_csv(file_path)\n",
        "print(df.head())"
      ],
      "metadata": {
        "colab": {
          "base_uri": "https://localhost:8080/"
        },
        "id": "Tt45jKdAhoRg",
        "outputId": "6420a2f4-098a-4d40-e5a9-8e1de1affcfe"
      },
      "execution_count": null,
      "outputs": [
        {
          "output_type": "stream",
          "name": "stdout",
          "text": [
            "   i#clientid        income        age         loan  c#default\n",
            "0           1  66155.925095  59.017015  8106.532131          0\n",
            "1           2  34415.153966  48.117153  6564.745018          0\n",
            "2           3  57317.170063  63.108049  8020.953296          0\n",
            "3           4  42709.534201  45.751972  6103.642260          0\n",
            "4           5  66952.688845  18.584336  8770.099235          1\n"
          ]
        }
      ]
    },
    {
      "cell_type": "code",
      "source": [
        "#basic way to inspect dataset\n",
        "df.head(), df.tail(), df.info(), df.describe()"
      ],
      "metadata": {
        "colab": {
          "base_uri": "https://localhost:8080/"
        },
        "id": "wu3Hdpt9hzUh",
        "outputId": "8bd2f3f0-6313-47b8-9396-986c6ba491d6"
      },
      "execution_count": null,
      "outputs": [
        {
          "output_type": "stream",
          "name": "stdout",
          "text": [
            "<class 'pandas.core.frame.DataFrame'>\n",
            "RangeIndex: 2000 entries, 0 to 1999\n",
            "Data columns (total 5 columns):\n",
            " #   Column      Non-Null Count  Dtype  \n",
            "---  ------      --------------  -----  \n",
            " 0   i#clientid  2000 non-null   int64  \n",
            " 1   income      2000 non-null   float64\n",
            " 2   age         1997 non-null   float64\n",
            " 3   loan        2000 non-null   float64\n",
            " 4   c#default   2000 non-null   int64  \n",
            "dtypes: float64(3), int64(2)\n",
            "memory usage: 78.3 KB\n"
          ]
        },
        {
          "output_type": "execute_result",
          "data": {
            "text/plain": [
              "(   i#clientid        income        age         loan  c#default\n",
              " 0           1  66155.925095  59.017015  8106.532131          0\n",
              " 1           2  34415.153966  48.117153  6564.745018          0\n",
              " 2           3  57317.170063  63.108049  8020.953296          0\n",
              " 3           4  42709.534201  45.751972  6103.642260          0\n",
              " 4           5  66952.688845  18.584336  8770.099235          1,\n",
              "       i#clientid        income        age         loan  c#default\n",
              " 1995        1996  59221.044874  48.518179  1926.729397          0\n",
              " 1996        1997  69516.127573  23.162104  3503.176156          0\n",
              " 1997        1998  44311.449262  28.017167  5522.786693          1\n",
              " 1998        1999  43756.056605  63.971796  1622.722598          0\n",
              " 1999        2000  69436.579552  56.152617  7378.833599          0,\n",
              " None,\n",
              "         i#clientid        income          age          loan    c#default\n",
              " count  2000.000000   2000.000000  1997.000000   2000.000000  2000.000000\n",
              " mean   1000.500000  45331.600018    40.807559   4444.369695     0.141500\n",
              " std     577.494589  14326.327119    13.624469   3045.410024     0.348624\n",
              " min       1.000000  20014.489470   -52.423280      1.377630     0.000000\n",
              " 25%     500.750000  32796.459717    28.990415   1939.708847     0.000000\n",
              " 50%    1000.500000  45789.117313    41.317159   3974.719419     0.000000\n",
              " 75%    1500.250000  57791.281668    52.587040   6432.410625     0.000000\n",
              " max    2000.000000  69995.685578    63.971796  13766.051239     1.000000)"
            ]
          },
          "metadata": {},
          "execution_count": 6
        }
      ]
    },
    {
      "cell_type": "code",
      "source": [
        "cleaned_df = df.dropna()"
      ],
      "metadata": {
        "id": "Y72s8IzMjFj1"
      },
      "execution_count": null,
      "outputs": []
    },
    {
      "cell_type": "code",
      "source": [
        "print(cleaned_df.head())"
      ],
      "metadata": {
        "colab": {
          "base_uri": "https://localhost:8080/"
        },
        "id": "gHsdGg0VreM2",
        "outputId": "0ee6021b-40d4-412a-bd49-62702b3e0336"
      },
      "execution_count": null,
      "outputs": [
        {
          "output_type": "stream",
          "name": "stdout",
          "text": [
            "   i#clientid        income        age         loan  c#default\n",
            "0           1  66155.925095  59.017015  8106.532131          0\n",
            "1           2  34415.153966  48.117153  6564.745018          0\n",
            "2           3  57317.170063  63.108049  8020.953296          0\n",
            "3           4  42709.534201  45.751972  6103.642260          0\n",
            "4           5  66952.688845  18.584336  8770.099235          1\n"
          ]
        }
      ]
    },
    {
      "cell_type": "code",
      "source": [
        "cleaned_df.describe()"
      ],
      "metadata": {
        "colab": {
          "base_uri": "https://localhost:8080/",
          "height": 300
        },
        "id": "1mudDoYDsmaI",
        "outputId": "b90e2947-6871-40fa-a507-021f8dafd02d"
      },
      "execution_count": null,
      "outputs": [
        {
          "output_type": "execute_result",
          "data": {
            "text/plain": [
              "        i#clientid        income          age          loan    c#default\n",
              "count  1997.000000   1997.000000  1997.000000   1997.000000  1997.000000\n",
              "mean   1001.956935  45333.864334    40.807559   4445.487716     0.141713\n",
              "std     576.702206  14325.131177    13.624469   3046.792457     0.348842\n",
              "min       1.000000  20014.489470   -52.423280      1.377630     0.000000\n",
              "25%     503.000000  32804.904487    28.990415   1936.813257     0.000000\n",
              "50%    1002.000000  45788.747100    41.317159   3977.287432     0.000000\n",
              "75%    1501.000000  57787.565659    52.587040   6440.861434     0.000000\n",
              "max    2000.000000  69995.685578    63.971796  13766.051239     1.000000"
            ],
            "text/html": [
              "\n",
              "  <div id=\"df-3129b76b-3211-4002-aa0a-0de042bbf814\" class=\"colab-df-container\">\n",
              "    <div>\n",
              "<style scoped>\n",
              "    .dataframe tbody tr th:only-of-type {\n",
              "        vertical-align: middle;\n",
              "    }\n",
              "\n",
              "    .dataframe tbody tr th {\n",
              "        vertical-align: top;\n",
              "    }\n",
              "\n",
              "    .dataframe thead th {\n",
              "        text-align: right;\n",
              "    }\n",
              "</style>\n",
              "<table border=\"1\" class=\"dataframe\">\n",
              "  <thead>\n",
              "    <tr style=\"text-align: right;\">\n",
              "      <th></th>\n",
              "      <th>i#clientid</th>\n",
              "      <th>income</th>\n",
              "      <th>age</th>\n",
              "      <th>loan</th>\n",
              "      <th>c#default</th>\n",
              "    </tr>\n",
              "  </thead>\n",
              "  <tbody>\n",
              "    <tr>\n",
              "      <th>count</th>\n",
              "      <td>1997.000000</td>\n",
              "      <td>1997.000000</td>\n",
              "      <td>1997.000000</td>\n",
              "      <td>1997.000000</td>\n",
              "      <td>1997.000000</td>\n",
              "    </tr>\n",
              "    <tr>\n",
              "      <th>mean</th>\n",
              "      <td>1001.956935</td>\n",
              "      <td>45333.864334</td>\n",
              "      <td>40.807559</td>\n",
              "      <td>4445.487716</td>\n",
              "      <td>0.141713</td>\n",
              "    </tr>\n",
              "    <tr>\n",
              "      <th>std</th>\n",
              "      <td>576.702206</td>\n",
              "      <td>14325.131177</td>\n",
              "      <td>13.624469</td>\n",
              "      <td>3046.792457</td>\n",
              "      <td>0.348842</td>\n",
              "    </tr>\n",
              "    <tr>\n",
              "      <th>min</th>\n",
              "      <td>1.000000</td>\n",
              "      <td>20014.489470</td>\n",
              "      <td>-52.423280</td>\n",
              "      <td>1.377630</td>\n",
              "      <td>0.000000</td>\n",
              "    </tr>\n",
              "    <tr>\n",
              "      <th>25%</th>\n",
              "      <td>503.000000</td>\n",
              "      <td>32804.904487</td>\n",
              "      <td>28.990415</td>\n",
              "      <td>1936.813257</td>\n",
              "      <td>0.000000</td>\n",
              "    </tr>\n",
              "    <tr>\n",
              "      <th>50%</th>\n",
              "      <td>1002.000000</td>\n",
              "      <td>45788.747100</td>\n",
              "      <td>41.317159</td>\n",
              "      <td>3977.287432</td>\n",
              "      <td>0.000000</td>\n",
              "    </tr>\n",
              "    <tr>\n",
              "      <th>75%</th>\n",
              "      <td>1501.000000</td>\n",
              "      <td>57787.565659</td>\n",
              "      <td>52.587040</td>\n",
              "      <td>6440.861434</td>\n",
              "      <td>0.000000</td>\n",
              "    </tr>\n",
              "    <tr>\n",
              "      <th>max</th>\n",
              "      <td>2000.000000</td>\n",
              "      <td>69995.685578</td>\n",
              "      <td>63.971796</td>\n",
              "      <td>13766.051239</td>\n",
              "      <td>1.000000</td>\n",
              "    </tr>\n",
              "  </tbody>\n",
              "</table>\n",
              "</div>\n",
              "    <div class=\"colab-df-buttons\">\n",
              "\n",
              "  <div class=\"colab-df-container\">\n",
              "    <button class=\"colab-df-convert\" onclick=\"convertToInteractive('df-3129b76b-3211-4002-aa0a-0de042bbf814')\"\n",
              "            title=\"Convert this dataframe to an interactive table.\"\n",
              "            style=\"display:none;\">\n",
              "\n",
              "  <svg xmlns=\"http://www.w3.org/2000/svg\" height=\"24px\" viewBox=\"0 -960 960 960\">\n",
              "    <path d=\"M120-120v-720h720v720H120Zm60-500h600v-160H180v160Zm220 220h160v-160H400v160Zm0 220h160v-160H400v160ZM180-400h160v-160H180v160Zm440 0h160v-160H620v160ZM180-180h160v-160H180v160Zm440 0h160v-160H620v160Z\"/>\n",
              "  </svg>\n",
              "    </button>\n",
              "\n",
              "  <style>\n",
              "    .colab-df-container {\n",
              "      display:flex;\n",
              "      gap: 12px;\n",
              "    }\n",
              "\n",
              "    .colab-df-convert {\n",
              "      background-color: #E8F0FE;\n",
              "      border: none;\n",
              "      border-radius: 50%;\n",
              "      cursor: pointer;\n",
              "      display: none;\n",
              "      fill: #1967D2;\n",
              "      height: 32px;\n",
              "      padding: 0 0 0 0;\n",
              "      width: 32px;\n",
              "    }\n",
              "\n",
              "    .colab-df-convert:hover {\n",
              "      background-color: #E2EBFA;\n",
              "      box-shadow: 0px 1px 2px rgba(60, 64, 67, 0.3), 0px 1px 3px 1px rgba(60, 64, 67, 0.15);\n",
              "      fill: #174EA6;\n",
              "    }\n",
              "\n",
              "    .colab-df-buttons div {\n",
              "      margin-bottom: 4px;\n",
              "    }\n",
              "\n",
              "    [theme=dark] .colab-df-convert {\n",
              "      background-color: #3B4455;\n",
              "      fill: #D2E3FC;\n",
              "    }\n",
              "\n",
              "    [theme=dark] .colab-df-convert:hover {\n",
              "      background-color: #434B5C;\n",
              "      box-shadow: 0px 1px 3px 1px rgba(0, 0, 0, 0.15);\n",
              "      filter: drop-shadow(0px 1px 2px rgba(0, 0, 0, 0.3));\n",
              "      fill: #FFFFFF;\n",
              "    }\n",
              "  </style>\n",
              "\n",
              "    <script>\n",
              "      const buttonEl =\n",
              "        document.querySelector('#df-3129b76b-3211-4002-aa0a-0de042bbf814 button.colab-df-convert');\n",
              "      buttonEl.style.display =\n",
              "        google.colab.kernel.accessAllowed ? 'block' : 'none';\n",
              "\n",
              "      async function convertToInteractive(key) {\n",
              "        const element = document.querySelector('#df-3129b76b-3211-4002-aa0a-0de042bbf814');\n",
              "        const dataTable =\n",
              "          await google.colab.kernel.invokeFunction('convertToInteractive',\n",
              "                                                    [key], {});\n",
              "        if (!dataTable) return;\n",
              "\n",
              "        const docLinkHtml = 'Like what you see? Visit the ' +\n",
              "          '<a target=\"_blank\" href=https://colab.research.google.com/notebooks/data_table.ipynb>data table notebook</a>'\n",
              "          + ' to learn more about interactive tables.';\n",
              "        element.innerHTML = '';\n",
              "        dataTable['output_type'] = 'display_data';\n",
              "        await google.colab.output.renderOutput(dataTable, element);\n",
              "        const docLink = document.createElement('div');\n",
              "        docLink.innerHTML = docLinkHtml;\n",
              "        element.appendChild(docLink);\n",
              "      }\n",
              "    </script>\n",
              "  </div>\n",
              "\n",
              "\n",
              "<div id=\"df-6db96505-7b46-451f-be96-7f3e470cd114\">\n",
              "  <button class=\"colab-df-quickchart\" onclick=\"quickchart('df-6db96505-7b46-451f-be96-7f3e470cd114')\"\n",
              "            title=\"Suggest charts\"\n",
              "            style=\"display:none;\">\n",
              "\n",
              "<svg xmlns=\"http://www.w3.org/2000/svg\" height=\"24px\"viewBox=\"0 0 24 24\"\n",
              "     width=\"24px\">\n",
              "    <g>\n",
              "        <path d=\"M19 3H5c-1.1 0-2 .9-2 2v14c0 1.1.9 2 2 2h14c1.1 0 2-.9 2-2V5c0-1.1-.9-2-2-2zM9 17H7v-7h2v7zm4 0h-2V7h2v10zm4 0h-2v-4h2v4z\"/>\n",
              "    </g>\n",
              "</svg>\n",
              "  </button>\n",
              "\n",
              "<style>\n",
              "  .colab-df-quickchart {\n",
              "      --bg-color: #E8F0FE;\n",
              "      --fill-color: #1967D2;\n",
              "      --hover-bg-color: #E2EBFA;\n",
              "      --hover-fill-color: #174EA6;\n",
              "      --disabled-fill-color: #AAA;\n",
              "      --disabled-bg-color: #DDD;\n",
              "  }\n",
              "\n",
              "  [theme=dark] .colab-df-quickchart {\n",
              "      --bg-color: #3B4455;\n",
              "      --fill-color: #D2E3FC;\n",
              "      --hover-bg-color: #434B5C;\n",
              "      --hover-fill-color: #FFFFFF;\n",
              "      --disabled-bg-color: #3B4455;\n",
              "      --disabled-fill-color: #666;\n",
              "  }\n",
              "\n",
              "  .colab-df-quickchart {\n",
              "    background-color: var(--bg-color);\n",
              "    border: none;\n",
              "    border-radius: 50%;\n",
              "    cursor: pointer;\n",
              "    display: none;\n",
              "    fill: var(--fill-color);\n",
              "    height: 32px;\n",
              "    padding: 0;\n",
              "    width: 32px;\n",
              "  }\n",
              "\n",
              "  .colab-df-quickchart:hover {\n",
              "    background-color: var(--hover-bg-color);\n",
              "    box-shadow: 0 1px 2px rgba(60, 64, 67, 0.3), 0 1px 3px 1px rgba(60, 64, 67, 0.15);\n",
              "    fill: var(--button-hover-fill-color);\n",
              "  }\n",
              "\n",
              "  .colab-df-quickchart-complete:disabled,\n",
              "  .colab-df-quickchart-complete:disabled:hover {\n",
              "    background-color: var(--disabled-bg-color);\n",
              "    fill: var(--disabled-fill-color);\n",
              "    box-shadow: none;\n",
              "  }\n",
              "\n",
              "  .colab-df-spinner {\n",
              "    border: 2px solid var(--fill-color);\n",
              "    border-color: transparent;\n",
              "    border-bottom-color: var(--fill-color);\n",
              "    animation:\n",
              "      spin 1s steps(1) infinite;\n",
              "  }\n",
              "\n",
              "  @keyframes spin {\n",
              "    0% {\n",
              "      border-color: transparent;\n",
              "      border-bottom-color: var(--fill-color);\n",
              "      border-left-color: var(--fill-color);\n",
              "    }\n",
              "    20% {\n",
              "      border-color: transparent;\n",
              "      border-left-color: var(--fill-color);\n",
              "      border-top-color: var(--fill-color);\n",
              "    }\n",
              "    30% {\n",
              "      border-color: transparent;\n",
              "      border-left-color: var(--fill-color);\n",
              "      border-top-color: var(--fill-color);\n",
              "      border-right-color: var(--fill-color);\n",
              "    }\n",
              "    40% {\n",
              "      border-color: transparent;\n",
              "      border-right-color: var(--fill-color);\n",
              "      border-top-color: var(--fill-color);\n",
              "    }\n",
              "    60% {\n",
              "      border-color: transparent;\n",
              "      border-right-color: var(--fill-color);\n",
              "    }\n",
              "    80% {\n",
              "      border-color: transparent;\n",
              "      border-right-color: var(--fill-color);\n",
              "      border-bottom-color: var(--fill-color);\n",
              "    }\n",
              "    90% {\n",
              "      border-color: transparent;\n",
              "      border-bottom-color: var(--fill-color);\n",
              "    }\n",
              "  }\n",
              "</style>\n",
              "\n",
              "  <script>\n",
              "    async function quickchart(key) {\n",
              "      const quickchartButtonEl =\n",
              "        document.querySelector('#' + key + ' button');\n",
              "      quickchartButtonEl.disabled = true;  // To prevent multiple clicks.\n",
              "      quickchartButtonEl.classList.add('colab-df-spinner');\n",
              "      try {\n",
              "        const charts = await google.colab.kernel.invokeFunction(\n",
              "            'suggestCharts', [key], {});\n",
              "      } catch (error) {\n",
              "        console.error('Error during call to suggestCharts:', error);\n",
              "      }\n",
              "      quickchartButtonEl.classList.remove('colab-df-spinner');\n",
              "      quickchartButtonEl.classList.add('colab-df-quickchart-complete');\n",
              "    }\n",
              "    (() => {\n",
              "      let quickchartButtonEl =\n",
              "        document.querySelector('#df-6db96505-7b46-451f-be96-7f3e470cd114 button');\n",
              "      quickchartButtonEl.style.display =\n",
              "        google.colab.kernel.accessAllowed ? 'block' : 'none';\n",
              "    })();\n",
              "  </script>\n",
              "</div>\n",
              "\n",
              "    </div>\n",
              "  </div>\n"
            ],
            "application/vnd.google.colaboratory.intrinsic+json": {
              "type": "dataframe",
              "summary": "{\n  \"name\": \"cleaned_df\",\n  \"rows\": 8,\n  \"fields\": [\n    {\n      \"column\": \"i#clientid\",\n      \"properties\": {\n        \"dtype\": \"number\",\n        \"std\": 719.7988204008838,\n        \"min\": 1.0,\n        \"max\": 2000.0,\n        \"num_unique_values\": 8,\n        \"samples\": [\n          1001.9569354031047,\n          1002.0,\n          1997.0\n        ],\n        \"semantic_type\": \"\",\n        \"description\": \"\"\n      }\n    },\n    {\n      \"column\": \"income\",\n      \"properties\": {\n        \"dtype\": \"number\",\n        \"std\": 23006.502489229657,\n        \"min\": 1997.0,\n        \"max\": 69995.6855783239,\n        \"num_unique_values\": 8,\n        \"samples\": [\n          45333.864333915575,\n          45788.747100159504,\n          1997.0\n        ],\n        \"semantic_type\": \"\",\n        \"description\": \"\"\n      }\n    },\n    {\n      \"column\": \"age\",\n      \"properties\": {\n        \"dtype\": \"number\",\n        \"std\": 697.4194419741473,\n        \"min\": -52.4232799196616,\n        \"max\": 1997.0,\n        \"num_unique_values\": 8,\n        \"samples\": [\n          40.80755937840458,\n          41.3171591130085,\n          1997.0\n        ],\n        \"semantic_type\": \"\",\n        \"description\": \"\"\n      }\n    },\n    {\n      \"column\": \"loan\",\n      \"properties\": {\n        \"dtype\": \"number\",\n        \"std\": 4226.926432455741,\n        \"min\": 1.37762959325451,\n        \"max\": 13766.0512393337,\n        \"num_unique_values\": 8,\n        \"samples\": [\n          4445.487715888529,\n          3977.28743247384,\n          1997.0\n        ],\n        \"semantic_type\": \"\",\n        \"description\": \"\"\n      }\n    },\n    {\n      \"column\": \"c#default\",\n      \"properties\": {\n        \"dtype\": \"number\",\n        \"std\": 705.9709200265562,\n        \"min\": 0.0,\n        \"max\": 1997.0,\n        \"num_unique_values\": 5,\n        \"samples\": [\n          0.14171256885327993,\n          1.0,\n          0.3488424481259175\n        ],\n        \"semantic_type\": \"\",\n        \"description\": \"\"\n      }\n    }\n  ]\n}"
            }
          },
          "metadata": {},
          "execution_count": 11
        }
      ]
    },
    {
      "cell_type": "code",
      "source": [
        "input_df = cleaned_df[[\"income\" ,\"age\" ,\"loan\" ]]\n",
        "output_df = cleaned_df[[\"c#default\"]]\n",
        "print(input_df, output_df)"
      ],
      "metadata": {
        "colab": {
          "base_uri": "https://localhost:8080/"
        },
        "id": "Vz1ftgrHsp1k",
        "outputId": "2c43dfc7-41ac-4075-abd9-904175024584"
      },
      "execution_count": null,
      "outputs": [
        {
          "output_type": "stream",
          "name": "stdout",
          "text": [
            "            income        age         loan\n",
            "0     66155.925095  59.017015  8106.532131\n",
            "1     34415.153966  48.117153  6564.745018\n",
            "2     57317.170063  63.108049  8020.953296\n",
            "3     42709.534201  45.751972  6103.642260\n",
            "4     66952.688845  18.584336  8770.099235\n",
            "...            ...        ...          ...\n",
            "1995  59221.044874  48.518179  1926.729397\n",
            "1996  69516.127573  23.162104  3503.176156\n",
            "1997  44311.449262  28.017167  5522.786693\n",
            "1998  43756.056605  63.971796  1622.722598\n",
            "1999  69436.579552  56.152617  7378.833599\n",
            "\n",
            "[1997 rows x 3 columns]       c#default\n",
            "0             0\n",
            "1             0\n",
            "2             0\n",
            "3             0\n",
            "4             1\n",
            "...         ...\n",
            "1995          0\n",
            "1996          0\n",
            "1997          1\n",
            "1998          0\n",
            "1999          0\n",
            "\n",
            "[1997 rows x 1 columns]\n"
          ]
        }
      ]
    },
    {
      "cell_type": "code",
      "source": [
        "inputs = input_df.to_numpy()\n",
        "outputs = output_df.to_numpy()\n",
        "np.set_printoptions(suppress=True)\n",
        "scaler = MinMaxScaler()\n",
        "inputs = scaler.fit_transform(inputs)\n",
        "outputs = scaler.fit_transform(outputs)\n"
      ],
      "metadata": {
        "id": "SkOQlu6Et21n"
      },
      "execution_count": null,
      "outputs": []
    },
    {
      "cell_type": "code",
      "source": [
        "print(inputs.shape)\n",
        "print(outputs.shape)\n"
      ],
      "metadata": {
        "colab": {
          "base_uri": "https://localhost:8080/"
        },
        "id": "mZbjgmmCu29L",
        "outputId": "23fb68ec-abf8-4ad2-ac7d-1b23d7b367df"
      },
      "execution_count": null,
      "outputs": [
        {
          "output_type": "stream",
          "name": "stdout",
          "text": [
            "(1997, 3)\n",
            "(1997, 1)\n"
          ]
        }
      ]
    },
    {
      "cell_type": "code",
      "source": [
        "def sigmoid (x):\n",
        "  return 1/(1 + np.exp(-x));\n",
        "\n",
        "#def (x):\n",
        " # return 1/(1 - sigmoid(x))\n",
        "\n",
        "def sigmoid_derivative(x):\n",
        "  return np.maximum(0, x)\n",
        "\n",
        "weights0 = 0.1*np.random.random((3,2)) - 1\n",
        "weights1 = 0.1*np.random.random((2,1)) - 1\n",
        "\n",
        "print (weights0, weights1)"
      ],
      "metadata": {
        "colab": {
          "base_uri": "https://localhost:8080/"
        },
        "id": "w6pXmgPbwcSa",
        "outputId": "8d006b34-3371-4863-f6bb-0b5d6543638e"
      },
      "execution_count": null,
      "outputs": [
        {
          "output_type": "stream",
          "name": "stdout",
          "text": [
            "[[-0.98858686 -0.93504931]\n",
            " [-0.97918363 -0.91823877]\n",
            " [-0.99969926 -0.945224  ]] [[-0.91292536]\n",
            " [-0.97255607]]\n"
          ]
        }
      ]
    },
    {
      "cell_type": "code",
      "source": [
        "sum_synapse0 = np.array(sigmoid(np.dot(inputs, weights0)))\n",
        "prediction = np.array(sigmoid(np.dot(sum_synapse0, weights1)))\n",
        "error = abs(prediction - outputs)\n",
        "average = np.mean(error)\n",
        "error.shape\n"
      ],
      "metadata": {
        "colab": {
          "base_uri": "https://localhost:8080/"
        },
        "id": "sbNAKur3wuVE",
        "outputId": "85dcfad1-8139-4986-90ed-fa7e28e84606"
      },
      "execution_count": null,
      "outputs": [
        {
          "output_type": "execute_result",
          "data": {
            "text/plain": [
              "(1997, 1)"
            ]
          },
          "metadata": {},
          "execution_count": 113
        }
      ]
    },
    {
      "cell_type": "code",
      "source": [
        "outputs.shape\n"
      ],
      "metadata": {
        "colab": {
          "base_uri": "https://localhost:8080/"
        },
        "id": "SqKHSnl95bzw",
        "outputId": "f91ad562-4ddc-4cf3-e9ac-882bb89f21e4"
      },
      "execution_count": null,
      "outputs": [
        {
          "output_type": "execute_result",
          "data": {
            "text/plain": [
              "(1997, 1)"
            ]
          },
          "metadata": {},
          "execution_count": 118
        }
      ]
    },
    {
      "cell_type": "code",
      "source": [
        "inputs.shape\n",
        "inputs"
      ],
      "metadata": {
        "colab": {
          "base_uri": "https://localhost:8080/"
        },
        "id": "C8QtrLYG5cF4",
        "outputId": "7863a02b-effe-42c8-c23b-fe21360030ba"
      },
      "execution_count": null,
      "outputs": [
        {
          "output_type": "execute_result",
          "data": {
            "text/plain": [
              "array([[0.9231759 , 0.95743135, 0.58883739],\n",
              "       [0.28812165, 0.86378597, 0.47682695],\n",
              "       [0.74633429, 0.99257918, 0.58262011],\n",
              "       ...,\n",
              "       [0.48612202, 0.69109837, 0.40112895],\n",
              "       [0.47500998, 1.        , 0.1177903 ],\n",
              "       [0.98881367, 0.93282208, 0.53597028]])"
            ]
          },
          "metadata": {},
          "execution_count": 119
        }
      ]
    },
    {
      "cell_type": "code",
      "source": [
        "#main code\n",
        "epochs = 10000\n",
        "learning_rate = 0.01\n",
        "error = []\n",
        "\n",
        "for epoch in range(epochs):\n",
        "  sum_synapse0 = np.dot(inputs, weights0)\n",
        "  hidden_layer = sigmoid(sum_synapse0)\n",
        "  sum_synapse1 = np.dot(hidden_layer, weights1)\n",
        "  prediction = sigmoid(sum_synapse1)\n",
        "  error = abs(prediction - outputs)\n",
        "  error_list = error.tolist()\n",
        "  average = np.mean(error) if len(error >0) else 0\n",
        "\n",
        "  if epoch %1000 == 0:\n",
        "    print('Epoch: ' + str(epoch + 1) + ' Error: ' + str(average))\n",
        "    error_list.append(average)\n",
        "\n",
        "\n",
        "\n",
        "  #from output layertp hidden layer\n",
        "  derivative_hidden_layer = sigmoid_derivative(prediction)\n",
        "  delta_output_layer = error*derivative_hidden_layer\n",
        "\n",
        "  #from hidden layer to input layer\n",
        "  weights1t = weights1.T\n",
        "  delta_hidden_layer = np.dot(delta_output_layer, weights1)\n",
        "\n",
        "\n",
        "  # weigth optimisation\n",
        "\n",
        "  #hidden layer to output layer\n",
        "  sum_synapse0t = sum_synapse0.T\n",
        "  inputXdelta1 = np.dot(sum_synapse0t, delta_output_layer)\n",
        "  weights1 = weights1 + (inputXdelta1*learning_rate)\n",
        "\n",
        "  #input layer to hidden layer\n",
        "  inputs_ttansverse = inputs.T\n",
        "  inputXdelta0 = np.dot(inputs_ttansverse, delta_hidden_layer)\n",
        "  weights0 = weights0 + (inputXdelta0*learning_rate)\n",
        "\n",
        "\n"
      ],
      "metadata": {
        "colab": {
          "base_uri": "https://localhost:8080/"
        },
        "id": "IVYHgjY-0YFi",
        "outputId": "3cc79eea-5a95-4328-ec6c-24552fde8ab4"
      },
      "execution_count": null,
      "outputs": [
        {
          "output_type": "stream",
          "name": "stdout",
          "text": [
            "Epoch: 1 Error: 0.50000000004569\n",
            "Epoch: 1001 Error: 0.14171256885327993\n",
            "Epoch: 2001 Error: 0.14171256885327993\n",
            "Epoch: 3001 Error: 0.14171256885327993\n",
            "Epoch: 4001 Error: 0.14171256885327993\n",
            "Epoch: 5001 Error: 0.14171256885327993\n",
            "Epoch: 6001 Error: 0.14171256885327993\n",
            "Epoch: 7001 Error: 0.14171256885327993\n",
            "Epoch: 8001 Error: 0.14171256885327993\n",
            "Epoch: 9001 Error: 0.14171256885327993\n"
          ]
        }
      ]
    },
    {
      "cell_type": "code",
      "source": [
        "prediction.shape"
      ],
      "metadata": {
        "colab": {
          "base_uri": "https://localhost:8080/"
        },
        "id": "Cyh6hVM1_Y-d",
        "outputId": "5787485f-8abc-453f-d298-bfc0e86f004a"
      },
      "execution_count": null,
      "outputs": [
        {
          "output_type": "execute_result",
          "data": {
            "text/plain": [
              "(1997, 2)"
            ]
          },
          "metadata": {},
          "execution_count": 85
        }
      ]
    },
    {
      "cell_type": "code",
      "source": [
        "\n"
      ],
      "metadata": {
        "colab": {
          "base_uri": "https://localhost:8080/"
        },
        "id": "bwTRiABQ__b1",
        "outputId": "8509b532-816c-4b3f-bdf7-50b64f85ab57"
      },
      "execution_count": null,
      "outputs": [
        {
          "output_type": "execute_result",
          "data": {
            "text/plain": [
              "3995"
            ]
          },
          "metadata": {},
          "execution_count": 71
        }
      ]
    }
  ]
}